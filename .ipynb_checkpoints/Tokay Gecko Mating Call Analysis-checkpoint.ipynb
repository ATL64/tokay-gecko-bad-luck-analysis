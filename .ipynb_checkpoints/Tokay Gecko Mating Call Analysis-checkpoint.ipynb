{
 "cells": [
  {
   "cell_type": "markdown",
   "metadata": {},
   "source": [
    "# Tokay Gecko Mating Call Analysis"
   ]
  },
  {
   "cell_type": "markdown",
   "metadata": {},
   "source": [
    "##### Purpose\n",
    "In this notebook we explore some basic questions about the Tokay Gecko by analyzing the distribution of\n",
    "the frequencies of their mating calls.\n",
    "\n",
    "##### Using this notebook\n",
    "To allow for future reproducibility, this notebook contains all the logic used to process and analyze the data. The analysis can be re run by downloading the notebook with the csv file. \n",
    "Contact me if you have any questions or need help reproducing the results."
   ]
  },
  {
   "cell_type": "markdown",
   "metadata": {},
   "source": [
    "# Table of Contents\n",
    "\n",
    "\n",
    "1. [First exploration of the Tokay dataset](#intro)\n",
    "\n",
    "    1.1 [Import the data](#import)\n",
    "    \n",
    "    1.2 [Initial Bar Chart](#basiccharts)\n",
    "    \n",
    "    1.3 [Full Bar Chart](#fullcharts)\n",
    "    \n",
    "\n",
    "2. [Research on existing literature](#research)\n",
    "\n",
    "    2.1 [Brillet & Paillette](#brillet)\n",
    "    \n",
    "    2.2 [Singh & Choudhury](#singh)\n",
    "    \n",
    "        \n",
    "3. [Probability of bad luck](#probad)\n",
    "\n",
    "\n",
    "4. [Conclusions](#conclusions)"
   ]
  },
  {
   "cell_type": "code",
   "execution_count": 27,
   "metadata": {},
   "outputs": [],
   "source": [
    "import pandas as pd \n",
    "# pandas config\n",
    "pd.set_option('float_format', lambda x: '%.3f' % x)\n",
    "pd.set_option('display.max_rows', 200)\n",
    "from IPython.display import Image\n",
    "\n",
    "import numpy as np\n",
    "from scipy.stats import skewnorm\n",
    "from scipy.stats import skew, mode\n",
    "from statistics import mean\n",
    "from numpy import var\n",
    "from scipy.stats import kurtosis\n",
    "from scipy import stats\n",
    "import matplotlib.pyplot as plt"
   ]
  },
  {
   "cell_type": "markdown",
   "metadata": {},
   "source": [
    "# First exploration of the Tokay dataset <a id=intro><a>"
   ]
  },
  {
   "cell_type": "markdown",
   "metadata": {},
   "source": [
    "### Import the data <a id=import></a>"
   ]
  },
  {
   "cell_type": "code",
   "execution_count": 3,
   "metadata": {},
   "outputs": [],
   "source": [
    "data = pd.read_csv(\"dataset.csv\") "
   ]
  },
  {
   "cell_type": "code",
   "execution_count": 4,
   "metadata": {},
   "outputs": [
    {
     "data": {
      "text/html": [
       "<div>\n",
       "<style scoped>\n",
       "    .dataframe tbody tr th:only-of-type {\n",
       "        vertical-align: middle;\n",
       "    }\n",
       "\n",
       "    .dataframe tbody tr th {\n",
       "        vertical-align: top;\n",
       "    }\n",
       "\n",
       "    .dataframe thead th {\n",
       "        text-align: right;\n",
       "    }\n",
       "</style>\n",
       "<table border=\"1\" class=\"dataframe\">\n",
       "  <thead>\n",
       "    <tr style=\"text-align: right;\">\n",
       "      <th></th>\n",
       "      <th>Date</th>\n",
       "      <th>in/out</th>\n",
       "      <th>Time</th>\n",
       "      <th>Count</th>\n",
       "    </tr>\n",
       "  </thead>\n",
       "  <tbody>\n",
       "    <tr>\n",
       "      <th>91</th>\n",
       "      <td>27-05-2020</td>\n",
       "      <td>out</td>\n",
       "      <td>19:01</td>\n",
       "      <td>6</td>\n",
       "    </tr>\n",
       "    <tr>\n",
       "      <th>92</th>\n",
       "      <td>27-05-2020</td>\n",
       "      <td>out</td>\n",
       "      <td>19:19</td>\n",
       "      <td>5</td>\n",
       "    </tr>\n",
       "    <tr>\n",
       "      <th>93</th>\n",
       "      <td>27-05-2020</td>\n",
       "      <td>out</td>\n",
       "      <td>19:54</td>\n",
       "      <td>6</td>\n",
       "    </tr>\n",
       "    <tr>\n",
       "      <th>94</th>\n",
       "      <td>27-05-2020</td>\n",
       "      <td>out</td>\n",
       "      <td>20:30</td>\n",
       "      <td>5</td>\n",
       "    </tr>\n",
       "    <tr>\n",
       "      <th>95</th>\n",
       "      <td>27-05-2020</td>\n",
       "      <td>out</td>\n",
       "      <td>20:33</td>\n",
       "      <td>6</td>\n",
       "    </tr>\n",
       "    <tr>\n",
       "      <th>96</th>\n",
       "      <td>27-05-2020</td>\n",
       "      <td>out</td>\n",
       "      <td>20:35</td>\n",
       "      <td>5</td>\n",
       "    </tr>\n",
       "    <tr>\n",
       "      <th>97</th>\n",
       "      <td>27-05-2020</td>\n",
       "      <td>out</td>\n",
       "      <td>20:36</td>\n",
       "      <td>6</td>\n",
       "    </tr>\n",
       "  </tbody>\n",
       "</table>\n",
       "</div>"
      ],
      "text/plain": [
       "          Date in/out    Time  Count\n",
       "91  27-05-2020     out  19:01      6\n",
       "92  27-05-2020     out  19:19      5\n",
       "93  27-05-2020     out  19:54      6\n",
       "94  27-05-2020     out  20:30      5\n",
       "95  27-05-2020     out  20:33      6\n",
       "96  27-05-2020     out  20:35      5\n",
       "97  27-05-2020     out  20:36      6"
      ]
     },
     "execution_count": 4,
     "metadata": {},
     "output_type": "execute_result"
    }
   ],
   "source": [
    "data.tail(7)"
   ]
  },
  {
   "cell_type": "markdown",
   "metadata": {},
   "source": [
    "First thing I noticed was that of the first 30 records, only the first one was a 7.  This was surprising and supported the idea that \"7\" was a rare event.  However, all of a sudden 7 became a rather common occurrence.  I got into reading some literature and developed a hypothesis: each gecko has a preference for the amount of times they call, and the population of geckos in my area was not that big. More on that later."
   ]
  },
  {
   "cell_type": "markdown",
   "metadata": {},
   "source": [
    "Here we see a histogram of the first 42 records.  You can see a somewhat bimodal distribution with peaks at 6 and 8 calls.  However, sample is a bit small to draw conclusions."
   ]
  },
  {
   "cell_type": "markdown",
   "metadata": {},
   "source": [
    "### Basic Bar Charts <a id=basiccharts></a>"
   ]
  },
  {
   "cell_type": "code",
   "execution_count": 5,
   "metadata": {},
   "outputs": [],
   "source": [
    "first_records = data[1:42].groupby('Count')['Count'].value_counts()\n"
   ]
  },
  {
   "cell_type": "code",
   "execution_count": 25,
   "metadata": {},
   "outputs": [
    {
     "data": {
      "text/plain": [
       "<matplotlib.axes._subplots.AxesSubplot at 0x11c9bb450>"
      ]
     },
     "execution_count": 25,
     "metadata": {},
     "output_type": "execute_result"
    },
    {
     "data": {
      "image/png": "[encoded data removed]",
      "text/plain": [
       "<Figure size 432x288 with 1 Axes>"
      ]
     },
     "metadata": {
      "needs_background": "light"
     },
     "output_type": "display_data"
    }
   ],
   "source": [
    "first_records.plot.bar()"
   ]
  },
  {
   "cell_type": "markdown",
   "metadata": {},
   "source": [
    "### Same chart with the entire dataset: <a id=fullcharts></a>"
   ]
  },
  {
   "cell_type": "code",
   "execution_count": 64,
   "metadata": {},
   "outputs": [],
   "source": [
    "all_records = data.groupby('Count')['Count'].value_counts()"
   ]
  },
  {
   "cell_type": "code",
   "execution_count": 65,
   "metadata": {},
   "outputs": [
    {
     "data": {
      "text/plain": [
       "<matplotlib.axes._subplots.AxesSubplot at 0x11e8c7390>"
      ]
     },
     "execution_count": 65,
     "metadata": {},
     "output_type": "execute_result"
    },
    {
     "data": {
      "image/png": "[encoded data removed]",
      "text/plain": [
       "<Figure size 432x288 with 1 Axes>"
      ]
     },
     "metadata": {
      "needs_background": "light"
     },
     "output_type": "display_data"
    }
   ],
   "source": [
    "all_records.plot.bar()"
   ]
  },
  {
   "cell_type": "markdown",
   "metadata": {},
   "source": [
    "Interesting, we seem to be shifting to a left skewed distribution with mode = 6"
   ]
  },
  {
   "cell_type": "markdown",
   "metadata": {},
   "source": [
    "Now, on any given day from our dataset, how many times will you hear a gecko calling?"
   ]
  },
  {
   "cell_type": "code",
   "execution_count": 7,
   "metadata": {},
   "outputs": [
    {
     "data": {
      "text/plain": [
       "7.333333333333333"
      ]
     },
     "execution_count": 7,
     "metadata": {},
     "output_type": "execute_result"
    }
   ],
   "source": [
    "date_records = data.groupby('Date')['Date'].value_counts()\n",
    "mean(date_records)"
   ]
  },
  {
   "cell_type": "markdown",
   "metadata": {},
   "source": [
    "# Research on existing literature <a id=research><a>"
   ]
  },
  {
   "cell_type": "markdown",
   "metadata": {},
   "source": [
    "## Brillet & Paillette <a id=brillet><a>"
   ]
  },
  {
   "cell_type": "markdown",
   "metadata": {},
   "source": [
    "I found an interesting paper from 1991 named \"Acoustic signals of the nocturnal lizard Gekko Gecko: Analysis of the 'long complex sequence'\" by Charles Brillet & Madeleine Paillette, published in \"The International Journal of Animal Sound and its Recording\"."
   ]
  },
  {
   "cell_type": "markdown",
   "metadata": {},
   "source": [
    "The focus of their analysis is on the duration of the entire \"ritual\" of the gecko's mating call.  For this study they had 4 geckos in captivity, and most records came from a single specimen."
   ]
  },
  {
   "cell_type": "markdown",
   "metadata": {},
   "source": [
    "The following is the histogram of 60 recordings from the same individual:"
   ]
  },
  {
   "cell_type": "code",
   "execution_count": 8,
   "metadata": {},
   "outputs": [],
   "source": [
    "paper1_data = {\"Calls\":[\"3\", \"4\", \"5\", \"6\", \"7\", \"8\"],\n",
    "\n",
    "        \"Counts\":[1, 1, 3, 16, 32, 7]\n",
    "\n",
    "        };\n",
    "\n",
    "# Dictionary loaded into a DataFrame       \n",
    "\n",
    "paper1_df = pd.DataFrame(data=paper1_data);"
   ]
  },
  {
   "cell_type": "code",
   "execution_count": 9,
   "metadata": {},
   "outputs": [
    {
     "data": {
      "image/png": "[encoded data removed]",
      "text/plain": [
       "<Figure size 432x288 with 1 Axes>"
      ]
     },
     "metadata": {
      "needs_background": "light"
     },
     "output_type": "display_data"
    }
   ],
   "source": [
    "paper1_df.plot.bar(x=\"Calls\", y=\"Counts\", rot=100, title=\"Number calls - One single Gecko measurements\");"
   ]
  },
  {
   "cell_type": "markdown",
   "metadata": {},
   "source": [
    "This reinforces the suspicion that geckos have a strong preference for a certain amount of calls.  In this case, the gecko preferred 7 calls (an unlucky boy this one).  "
   ]
  },
  {
   "cell_type": "markdown",
   "metadata": {},
   "source": [
    "Furthermore, if I can somehow confirm that the population of geckos is rather small in the vicinity of my house, then the seemingly bimodal distribution seen in the beginning of the dataset would make a lot of sense.  This is how I came across the next paper."
   ]
  },
  {
   "cell_type": "markdown",
   "metadata": {},
   "source": [
    "## Singh & Choudhury <a id=singh><a>"
   ]
  },
  {
   "cell_type": "markdown",
   "metadata": {},
   "source": [
    "The paper \"Habitat Preference Of Tokay Gecko (Gekko gecko) In Barak Valley Of Assam, India\" by Singh and Choudhury from 2016, published in the \"Journal of Bioresources\", gives a vague indication to my prior question."
   ]
  },
  {
   "cell_type": "markdown",
   "metadata": {},
   "source": [
    "They inspected a specific area of the Valley of Assam and found 6.92 Tokay geckos per kilometer. I assume their methodology was to walk straight ahead in a particular direction, rather than sweeping an entire area, so we don't have a figure per km^2.  This estimate however, supports the idea that there shouldn't be too many of these creatures in the vicinity of my house.  My educated guess is that I have been recording the calls of a minimum of 5 different individuals and a maximum of 10, each with their own preference of number of calls."
   ]
  },
  {
   "cell_type": "markdown",
   "metadata": {},
   "source": [
    "# Probability of bad luck <a id=probad><a>"
   ]
  },
  {
   "cell_type": "markdown",
   "metadata": {},
   "source": [
    "In the rest of the analysis, we will assume that sample size is big enough (and that number of specimens is big enough) and proceed to estimate the distributions, completeley disregarding confidence with respect to the sample size, in order to have a first answer to the main question of this notebook:  What is the probability of being unlucky after hearing a Tokay gecko call?"
   ]
  },
  {
   "cell_type": "markdown",
   "metadata": {},
   "source": [
    "We want to approximate our observations via a normal distribution with a skew.  Let's first estimate mean, mode and deviation:"
   ]
  },
  {
   "cell_type": "code",
   "execution_count": 10,
   "metadata": {},
   "outputs": [
    {
     "data": {
      "text/plain": [
       "6.86734693877551"
      ]
     },
     "execution_count": 10,
     "metadata": {},
     "output_type": "execute_result"
    }
   ],
   "source": [
    "obs_mean = mean(data['Count'])\n",
    "obs_mean"
   ]
  },
  {
   "cell_type": "code",
   "execution_count": 11,
   "metadata": {},
   "outputs": [
    {
     "data": {
      "text/plain": [
       "2.6252603082049144"
      ]
     },
     "execution_count": 11,
     "metadata": {},
     "output_type": "execute_result"
    }
   ],
   "source": [
    "obs_var = var(data['Count'])\n",
    "obs_var"
   ]
  },
  {
   "cell_type": "code",
   "execution_count": 12,
   "metadata": {},
   "outputs": [
    {
     "data": {
      "text/plain": [
       "6"
      ]
     },
     "execution_count": 12,
     "metadata": {},
     "output_type": "execute_result"
    }
   ],
   "source": [
    "obs_var = mode(data['Count'])\n",
    "obs_var[0][0]"
   ]
  },
  {
   "cell_type": "markdown",
   "metadata": {},
   "source": [
    "And let's fit the skewed distribution:"
   ]
  },
  {
   "cell_type": "code",
   "execution_count": 13,
   "metadata": {},
   "outputs": [],
   "source": [
    "a, loc, scale = 1.3, -0.1, 2.2\n",
    "sample = data['Count']\n",
    "ae, loce, scalee = stats.skewnorm.fit(sample)"
   ]
  },
  {
   "cell_type": "code",
   "execution_count": 28,
   "metadata": {},
   "outputs": [
    {
     "data": {
      "text/plain": [
       "[<matplotlib.lines.Line2D at 0x11a1856d0>]"
      ]
     },
     "execution_count": 28,
     "metadata": {},
     "output_type": "execute_result"
    },
    {
     "data": {
      "image/png": "[encoded data removed]",
      "text/plain": [
       "<Figure size 432x288 with 1 Axes>"
      ]
     },
     "metadata": {
      "needs_background": "light"
     },
     "output_type": "display_data"
    }
   ],
   "source": [
    "plt.figure()\n",
    "plt.hist(data['Count'], bins=8, normed=True,  color='g')\n",
    "x = np.linspace(min(data['Count']), max(data['Count']))\n",
    "p = stats.skewnorm.pdf(x,ae, loce, scalee)\n",
    "plt.plot(x, p, 'k', linewidth=2)"
   ]
  },
  {
   "cell_type": "code",
   "execution_count": 17,
   "metadata": {},
   "outputs": [],
   "source": [
    "def prob(a,b):\n",
    "    return stats.skewnorm.cdf(b,ae, loce, scalee) - stats.skewnorm.cdf(a,ae, loce, scalee)"
   ]
  },
  {
   "cell_type": "code",
   "execution_count": 18,
   "metadata": {},
   "outputs": [
    {
     "data": {
      "text/plain": [
       "0.22"
      ]
     },
     "execution_count": 18,
     "metadata": {},
     "output_type": "execute_result"
    }
   ],
   "source": [
    "round(prob(6.5,7.5)*100)/100"
   ]
  },
  {
   "cell_type": "markdown",
   "metadata": {},
   "source": [
    "So we do this simple estimate of the probability of encountering \"7\" for any given gecko calling.  The probability is 22%."
   ]
  },
  {
   "cell_type": "markdown",
   "metadata": {},
   "source": [
    "# Conclusion <a id=conclusion><a>"
   ]
  },
  {
   "cell_type": "markdown",
   "metadata": {},
   "source": [
    "So we have found that there is a 22% chance of hearing 7 calls from a Tokay Gecko.\n",
    "\n",
    "Is this enough to consider it a rare event?  \n",
    "\n",
    "In my subjective opinion, this superstition is not warranted given our dataset, I would have liked to see something under 5%.\n",
    "\n",
    "Our verdict for this superstition is:"
   ]
  },
  {
   "cell_type": "code",
   "execution_count": 19,
   "metadata": {},
   "outputs": [
    {
     "data": {
      "image/jpeg": "[encoded data removed]",
      "text/plain": [
       "<IPython.core.display.Image object>"
      ]
     },
     "execution_count": 19,
     "metadata": {},
     "output_type": "execute_result"
    }
   ],
   "source": [
    "Image(filename='disqualified.jpeg')"
   ]
  },
  {
   "cell_type": "markdown",
   "metadata": {},
   "source": [
    "Not everything is lost however.  I would like to propose a modification."
   ]
  },
  {
   "cell_type": "code",
   "execution_count": 23,
   "metadata": {},
   "outputs": [
    {
     "data": {
      "text/plain": [
       "0.03"
      ]
     },
     "execution_count": 23,
     "metadata": {},
     "output_type": "execute_result"
    }
   ],
   "source": [
    "round(prob(3.5,4.5)*100)/100"
   ]
  },
  {
   "cell_type": "markdown",
   "metadata": {},
   "source": [
    "The probability of hearing only 4 calls is around 3%, and it is also much easier to count up to 4 without paying much attention.  So the superstition makes much more sense if we define it as:\n",
    "\n",
    "\"Hearing 4 calls from a Tokay Gecko gives you bad luck\".\n",
    "    "
   ]
  },
  {
   "cell_type": "markdown",
   "metadata": {},
   "source": [
    "Let's make this a better world.  Let's all believe in the modified version of this superstition, and help foster a more rational society."
   ]
  }
 ],
 "metadata": {
  "kernelspec": {
   "display_name": "Python 3",
   "language": "python",
   "name": "python3"
  },
  "language_info": {
   "codemirror_mode": {
    "name": "ipython",
    "version": 3
   },
   "file_extension": ".py",
   "mimetype": "text/x-python",
   "name": "python",
   "nbconvert_exporter": "python",
   "pygments_lexer": "ipython3",
   "version": "3.7.6"
  }
 },
 "nbformat": 4,
 "nbformat_minor": 2
}
