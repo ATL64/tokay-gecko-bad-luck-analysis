{
 "cells": [
  {
   "cell_type": "markdown",
   "metadata": {},
   "source": [
    "# Tokay Gecko Mating Call Analysis"
   ]
  },
  {
   "cell_type": "markdown",
   "metadata": {},
   "source": [
    "##### Purpose\n",
    "In this notebook we explore some basic questions about the Tokay Gecko by analyzing the distribution of\n",
    "the frequencies of their mating calls.\n",
    "\n",
    "##### Using this notebook\n",
    "To allow for future reproducibility, this notebook contains all the logic used to process and analyze the data. The analysis can be re run by downloading the notebook with the csv file. \n",
    "Contact me if you have any questions or need help reproducing the results."
   ]
  },
  {
   "cell_type": "markdown",
   "metadata": {},
   "source": [
    "# Table of Contents\n",
    "\n",
    "\n",
    "1. [First exploration of the Tokay dataset](#intro)\n",
    "\n",
    "    1.1 [Import the data](#import)\n",
    "    \n",
    "    1.2 [Initial Bar Chart](#basiccharts)\n",
    "    \n",
    "    1.3 [Full Bar Chart](#fullcharts)\n",
    "    \n",
    "\n",
    "2. [Research on existing literature](#research)\n",
    "\n",
    "    2.1 [Brillet & Paillette](#brillet)\n",
    "    \n",
    "    2.2 [Singh & Choudhury](#singh)\n",
    "    \n",
    "        \n",
    "3. [Probability of bad luck](#probad)\n",
    "\n",
    "\n",
    "4. [Conclusions](#conclusions)"
   ]
  },
  {
   "cell_type": "markdown",
   "metadata": {},
   "source": [
    "# First exploration of the Tokay dataset <a id=intro><a>"
   ]
  },
  {
   "cell_type": "markdown",
   "metadata": {},
   "source": [
    "### Import the data <a id=import></a>"
   ]
  },
  {
   "cell_type": "code",
   "execution_count": 49,
   "metadata": {},
   "outputs": [],
   "source": [
    "import pandas as pd \n",
    "# pandas config\n",
    "pd.set_option('float_format', lambda x: '%.3f' % x)\n",
    "pd.set_option('display.max_rows', 200)"
   ]
  },
  {
   "cell_type": "code",
   "execution_count": 3,
   "metadata": {},
   "outputs": [],
   "source": [
    "data = pd.read_csv(\"dataset.csv\") "
   ]
  },
  {
   "cell_type": "markdown",
   "metadata": {},
   "source": [
    "First thing I noticed was that of the first 30 records, only the first one was a 7.  This was surprising and supported the idea that \"7\" was a rare event.  However, all of a sudden 7 became a rather common occurrence.  I got into reading some literature and developed a hypothesis: each gecko has a preference for the amount of times they call, and the population of geckos in my area was not that big. More on that later."
   ]
  },
  {
   "cell_type": "markdown",
   "metadata": {},
   "source": [
    "Here we see a histogram of the first 42 records.  You can see a somewhat bimodal distribution with peaks at 6 and 8 calls.  However, sample is a bit small to draw conclusions."
   ]
  },
  {
   "cell_type": "markdown",
   "metadata": {},
   "source": [
    "### Basic Bar Charts <a id=basiccharts></a>"
   ]
  },
  {
   "cell_type": "code",
   "execution_count": 42,
   "metadata": {},
   "outputs": [],
   "source": [
    "first_records = data[1:42].groupby('Count')['Count'].value_counts()\n"
   ]
  },
  {
   "cell_type": "code",
   "execution_count": 43,
   "metadata": {},
   "outputs": [
    {
     "data": {
      "text/plain": [
       "<matplotlib.axes._subplots.AxesSubplot at 0x10ef5f650>"
      ]
     },
     "execution_count": 43,
     "metadata": {},
     "output_type": "execute_result"
    },
    {
     "data": {
      "image/png": "[encoded data removed]",
      "text/plain": [
       "<Figure size 432x288 with 1 Axes>"
      ]
     },
     "metadata": {
      "needs_background": "light"
     },
     "output_type": "display_data"
    }
   ],
   "source": [
    "first_records.plot.bar()"
   ]
  },
  {
   "cell_type": "markdown",
   "metadata": {},
   "source": [
    "### Same chart with the entire dataset: <a id=fullcharts></a>"
   ]
  },
  {
   "cell_type": "code",
   "execution_count": 45,
   "metadata": {},
   "outputs": [],
   "source": [
    "all_records = data.groupby('Count')['Count'].value_counts()"
   ]
  },
  {
   "cell_type": "code",
   "execution_count": 46,
   "metadata": {},
   "outputs": [
    {
     "data": {
      "text/plain": [
       "<matplotlib.axes._subplots.AxesSubplot at 0x10f033910>"
      ]
     },
     "execution_count": 46,
     "metadata": {},
     "output_type": "execute_result"
    },
    {
     "data": {
      "image/png": "[encoded data removed]",
      "text/plain": [
       "<Figure size 432x288 with 1 Axes>"
      ]
     },
     "metadata": {
      "needs_background": "light"
     },
     "output_type": "display_data"
    }
   ],
   "source": [
    "all_records.plot.bar()"
   ]
  },
  {
   "cell_type": "markdown",
   "metadata": {},
   "source": [
    "Interesting, we seem to be shifting to a left skewed distribution with mode = 6"
   ]
  },
  {
   "cell_type": "code",
   "execution_count": null,
   "metadata": {},
   "outputs": [],
   "source": []
  },
  {
   "cell_type": "markdown",
   "metadata": {},
   "source": [
    "# Research on existing literature <a id=intro><a>"
   ]
  },
  {
   "cell_type": "markdown",
   "metadata": {},
   "source": [
    "## Brillet & Paillette <a id=brillet><a>"
   ]
  },
  {
   "cell_type": "markdown",
   "metadata": {},
   "source": [
    "I found an interesting paper from 1991 named \"Acoustic signals of the nocturnal lizard Gekko Gecko: Analysis of the 'long complex sequence'\" by Charles Brillet & Madeleine Paillette, published in \"The International Journal of Animal Sound and its Recording\"."
   ]
  },
  {
   "cell_type": "markdown",
   "metadata": {},
   "source": [
    "The focus of their analysis is on the duration of the entire \"ritual\" of the gecko's mating call.  For this study they had 4 geckos in captivity, and most records came from a single specimen."
   ]
  },
  {
   "cell_type": "markdown",
   "metadata": {},
   "source": [
    "The following is the histogram of 60 recordings from the same individual:"
   ]
  },
  {
   "cell_type": "code",
   "execution_count": 52,
   "metadata": {},
   "outputs": [],
   "source": [
    "paper1_data = {\"Calls\":[\"3\", \"4\", \"5\", \"6\", \"7\", \"8\"],\n",
    "\n",
    "        \"Counts\":[1, 1, 3, 16, 32, 7]\n",
    "\n",
    "        };\n",
    "\n",
    "# Dictionary loaded into a DataFrame       \n",
    "\n",
    "paper1_df = pd.DataFrame(data=paper1_data);"
   ]
  },
  {
   "cell_type": "code",
   "execution_count": 55,
   "metadata": {},
   "outputs": [
    {
     "data": {
      "image/png": "[encoded data removed]",
      "text/plain": [
       "<Figure size 432x288 with 1 Axes>"
      ]
     },
     "metadata": {
      "needs_background": "light"
     },
     "output_type": "display_data"
    }
   ],
   "source": [
    "paper1_df.plot.bar(x=\"Calls\", y=\"Counts\", rot=100, title=\"Number calls - One single Gecko measurements\");"
   ]
  },
  {
   "cell_type": "markdown",
   "metadata": {},
   "source": [
    "This reinforces the suspicion that geckos have a strong preference for a certain amount of calls.  In this case, the gecko preferred 7 calls (an unlucky boy this one).  "
   ]
  },
  {
   "cell_type": "markdown",
   "metadata": {},
   "source": [
    "Furthermore, if I can somehow confirm that the population of geckos is rather small in the vicinity of my house, then the seemingly bimodal distribution seen in the beginning of the dataset would make a lot of sense.  This is how I came across the next paper."
   ]
  },
  {
   "cell_type": "markdown",
   "metadata": {},
   "source": [
    "## Singh & Choudhury <a id=singh><a>"
   ]
  },
  {
   "cell_type": "markdown",
   "metadata": {},
   "source": [
    "The paper \"Habitat Preference Of Tokay Gecko (Gekko gecko) In Barak Valley Of Assam, India\", from 2016, published in the \"Journal of Bioresources\", gives a vague indication to my prior question."
   ]
  },
  {
   "cell_type": "markdown",
   "metadata": {},
   "source": [
    "They inspected a specific area of the Valley of Assam and found 6.92 Tokay geckos per kilometer. I assume their methodology was to walk straight ahead in a particular direction, rather than sweeping an entire area, so we don't have a figure per km^2.  This estimate however, supports the idea that there shouldn't be too many of these creatures in the vicinity of my house.  My educated guess is that I have been recording the calls of a minimum of 5 different individuals and a maximum of 10."
   ]
  },
  {
   "cell_type": "markdown",
   "metadata": {},
   "source": [
    "# Probability of bad luck <a id=probad><a>"
   ]
  },
  {
   "cell_type": "code",
   "execution_count": null,
   "metadata": {},
   "outputs": [],
   "source": []
  }
 ],
 "metadata": {
  "kernelspec": {
   "display_name": "Python 3",
   "language": "python",
   "name": "python3"
  },
  "language_info": {
   "codemirror_mode": {
    "name": "ipython",
    "version": 3
   },
   "file_extension": ".py",
   "mimetype": "text/x-python",
   "name": "python",
   "nbconvert_exporter": "python",
   "pygments_lexer": "ipython3",
   "version": "3.7.6"
  }
 },
 "nbformat": 4,
 "nbformat_minor": 2
}
